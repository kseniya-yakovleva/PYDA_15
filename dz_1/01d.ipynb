{
 "cells": [
  {
   "cell_type": "markdown",
   "metadata": {},
   "source": [
    "Задание 1"
   ]
  },
  {
   "cell_type": "code",
   "execution_count": 1,
   "metadata": {},
   "outputs": [
    {
     "name": "stdout",
     "output_type": "stream",
     "text": [
      "Фраза 1 длинее фразы 2\n",
      "Конец программы\n"
     ]
    }
   ],
   "source": [
    "phrase_1 = 'Можно написать фразу короче'\n",
    "phrase_2 = 'Лучше писать более короткие фразы, но не сегодня'\n",
    "#'Можно написать фразу короче'\n",
    "#'Лучше писать более короткие фразы, но не сегодня'\n",
    "if phrase_1 > phrase_2:\n",
    "    print('Фраза 1 длинее фразы 2')\n",
    "elif phrase_2 > phrase_1:\n",
    "    print('Фраза 2 длинее фразы 1')\n",
    "elif phrase_1 == phrase_2:\n",
    "    print('Фразы одной длины')\n",
    "print('Конец программы')"
   ]
  },
  {
   "cell_type": "markdown",
   "metadata": {},
   "source": [
    "Задание 2"
   ]
  },
  {
   "cell_type": "code",
   "execution_count": 5,
   "metadata": {},
   "outputs": [
    {
     "name": "stdout",
     "output_type": "stream",
     "text": [
      "Обычный год\n",
      "Конец программы\n"
     ]
    }
   ],
   "source": [
    "year = 2019\n",
    "if (year % 4 == 0 and year % 100 != 0) or (year % 400 == 0):\n",
    "    print('Високосный год')\n",
    "else:\n",
    "    print('Обычный год')\n",
    "print('Конец программы')"
   ]
  },
  {
   "cell_type": "markdown",
   "metadata": {},
   "source": [
    "Задание 3 "
   ]
  },
  {
   "cell_type": "code",
   "execution_count": 6,
   "metadata": {},
   "outputs": [
    {
     "name": "stdout",
     "output_type": "stream",
     "text": [
      "Введите день 8\n",
      "Введите месяц Март\n",
      "Не Овен\n"
     ]
    }
   ],
   "source": [
    "date = int(input('Введите день '))\n",
    "month = input('Введите месяц ')\n",
    "if (date >= 21 and date <= 31 and month == 'Март') or (date >= 1 and date <= 20 and month == 'Апрель'):\n",
    "    print('Ваш знак зодиака: Овен') \n",
    "else: \n",
    "    print('Не Овен')"
   ]
  },
  {
   "cell_type": "code",
   "execution_count": 7,
   "metadata": {},
   "outputs": [
    {
     "name": "stdout",
     "output_type": "stream",
     "text": [
      "Введите день 15\n",
      "Введите месяц Сентябрь\n",
      "Ваш знак зодиака: Дева\n",
      "Конец программы\n"
     ]
    }
   ],
   "source": [
    "date = int(input('Введите день '))\n",
    "month = input('Введите месяц ')\n",
    "if (date >= 24 and date <= 31 and month == 'Август') or (date >= 1 and date <= 23 and month == 'Сентябрь'):\n",
    "    print ('Ваш знак зодиака: Дева')  \n",
    "elif (date >= 24 and date <= 30 and month == 'Сентябрь') or (date >= 1 and date <= 23 and month == 'Октябрь'):\n",
    "        print('Ваш знак зодиака: Весы')\n",
    "else: \n",
    "    print('Не Дева и не Весы')\n",
    "print('Конец программы')"
   ]
  },
  {
   "cell_type": "markdown",
   "metadata": {},
   "source": [
    "Задание 4"
   ]
  },
  {
   "cell_type": "code",
   "execution_count": 12,
   "metadata": {},
   "outputs": [
    {
     "name": "stdout",
     "output_type": "stream",
     "text": [
      "Упаковка для лыж\n",
      "Конец программы\n"
     ]
    }
   ],
   "source": [
    "width = 14\n",
    "length = 201\n",
    "height = 11\n",
    "if (width < 15 and length < 15 and height < 15):\n",
    "    print('Коробка №1')\n",
    "elif (length > 200):\n",
    "    print('Упаковка для лыж')\n",
    "elif (15 > width < 50 or 15 > length < 50 or 15 > height < 50):\n",
    "    print('Коробка №2')\n",
    "else:\n",
    "    print('Стандартная коробка №3')\n",
    "print('Конец программы')"
   ]
  },
  {
   "cell_type": "markdown",
   "metadata": {},
   "source": [
    "Задание 6"
   ]
  },
  {
   "cell_type": "code",
   "execution_count": 15,
   "metadata": {},
   "outputs": [
    {
     "name": "stdout",
     "output_type": "stream",
     "text": [
      "Введите тип фигуры прямоугольник\n",
      "Введите длину стороны A 2\n",
      "Введите длину стороны B 5\n",
      "Площадь прямоугольника = 10\n",
      "Конец программы\n"
     ]
    }
   ],
   "source": [
    "type = input('Введите тип фигуры ')\n",
    "if type == 'круг':\n",
    "    rad = int(input('Введите радиус круга '))\n",
    "    area = rad*rad*3.1415\n",
    "    print ('Площадь круга =',area)\n",
    "elif type == 'треугольник':\n",
    "    A = int(input('Введите длину стороны А '))\n",
    "    B = int(input('Введите длину стороны В '))\n",
    "    C = int(input('Введите длину стороны С '))\n",
    "    p = (A + B + C)/2\n",
    "    area = (p * (p - A) * (p - B) * (p - C))**(1./2)\n",
    "    print('Площадь треугольника =',area)\n",
    "elif type == 'прямоугольник':\n",
    "    A = int(input('Введите длину стороны A '))\n",
    "    B = int(input('Введите длину стороны B '))\n",
    "    area = A * B\n",
    "    print('Площадь прямоугольника =',area)\n",
    "print('Конец программы')"
   ]
  }
 ],
 "metadata": {
  "kernelspec": {
   "display_name": "Python 3",
   "language": "python",
   "name": "python3"
  },
  "language_info": {
   "codemirror_mode": {
    "name": "ipython",
    "version": 3
   },
   "file_extension": ".py",
   "mimetype": "text/x-python",
   "name": "python",
   "nbconvert_exporter": "python",
   "pygments_lexer": "ipython3",
   "version": "3.8.3"
  }
 },
 "nbformat": 4,
 "nbformat_minor": 4
}
