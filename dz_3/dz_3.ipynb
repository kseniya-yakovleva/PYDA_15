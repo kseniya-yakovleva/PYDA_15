{
 "cells": [
  {
   "cell_type": "markdown",
   "metadata": {},
   "source": [
    "## Задание 1"
   ]
  },
  {
   "cell_type": "code",
   "execution_count": null,
   "metadata": {},
   "outputs": [],
   "source": [
    "#если вовремя остановить цикл, то середина должна остаться\n",
    "word = 'averages'\n",
    "x = 0\n",
    "y = -1\n",
    "if len(word) % 2 == 0:\n",
    "    for i in word:\n",
    "        x += 1\n",
    "        y -= 1\n",
    "        print(word[x:y])\n",
    "        break"
   ]
  },
  {
   "cell_type": "markdown",
   "metadata": {},
   "source": [
    "## Задание 2"
   ]
  },
  {
   "cell_type": "code",
   "execution_count": 1,
   "metadata": {},
   "outputs": [
    {
     "name": "stdout",
     "output_type": "stream",
     "text": [
      "Введите число 9\n",
      "Введите число 6\n",
      "Введите число 5\n",
      "Введите число 4\n",
      "Введите число 0\n",
      "24\n"
     ]
    }
   ],
   "source": [
    "sum_of_inputs = 0\n",
    "user_input = ''\n",
    "while user_input != 0:\n",
    "    user_input = int(input('Введите число '))\n",
    "    sum_of_inputs += user_input\n",
    "print(sum_of_inputs)"
   ]
  },
  {
   "cell_type": "markdown",
   "metadata": {},
   "source": [
    "## Задание 3"
   ]
  },
  {
   "cell_type": "code",
   "execution_count": 4,
   "metadata": {},
   "outputs": [
    {
     "name": "stdout",
     "output_type": "stream",
     "text": [
      "Alex и Emma\n",
      "Arthur и Kate\n",
      "John и Kira\n",
      "Michael и Liza\n",
      "Peter и Natalie\n",
      "Richard и Trisha\n"
     ]
    }
   ],
   "source": [
    "boys = ['Peter','Alex','John','Arthur','Richard','Michael']\n",
    "girls = ['Kate','Liza','Kira','Emma','Trisha','Natalie']\n",
    "boys = sorted(boys)\n",
    "girls = sorted(girls)\n",
    "if len(boys) != len(girls):\n",
    "    print('Кто-то может остаться без пары!')\n",
    "else:\n",
    "    couple = list(zip(boys, girls))\n",
    "    for name in couple:\n",
    "        print(name[0], 'и', name[1])"
   ]
  },
  {
   "cell_type": "markdown",
   "metadata": {},
   "source": [
    "## Задание 4"
   ]
  },
  {
   "cell_type": "code",
   "execution_count": 7,
   "metadata": {},
   "outputs": [
    {
     "name": "stdout",
     "output_type": "stream",
     "text": [
      "Thailand - 273.67 C\n",
      "Germany - 140.11 C\n",
      "Russia - 132.67 C\n",
      "Poland - 160.89 C\n"
     ]
    }
   ],
   "source": [
    "countries_temperature = [\n",
    "    ['Thailand', [75.2, 77, 78.8, 73.4, 68, 75.2, 77]],\n",
    "    ['Germany', [57.2, 55.4, 59, 59, 53.6]],\n",
    "    ['Russia', [35.6, 37.4, 39.2, 41, 42.8, 39.2, 35.6]],\n",
    "    ['Poland', [50, 50, 53.6, 57.2, 55.4, 55.4]]\n",
    "]\n",
    "for country_info in countries_temperature:\n",
    "    print(f\"{country_info[0]} - {round((sum(country_info[1])-32) * 5 / 9, 2)} C\") #главное было не запутаться в скобках"
   ]
  },
  {
   "cell_type": "markdown",
   "metadata": {},
   "source": [
    "## Задание 6"
   ]
  },
  {
   "cell_type": "code",
   "execution_count": 9,
   "metadata": {},
   "outputs": [
    {
     "name": "stdout",
     "output_type": "stream",
     "text": [
      "Введите числа через пробел 5 8 5 3 2 0\n",
      "['5', ' ', '8', ' ', '5', ' ', '3', ' ', '2', ' ', '0']\n"
     ]
    }
   ],
   "source": [
    "user_list = list(input('Введите числа через пробел '))\n",
    "print(user_list)"
   ]
  },
  {
   "cell_type": "code",
   "execution_count": 10,
   "metadata": {},
   "outputs": [
    {
     "name": "stdout",
     "output_type": "stream",
     "text": [
      "5\n",
      " \n",
      " \n",
      "5\n",
      " \n",
      " \n",
      " \n"
     ]
    }
   ],
   "source": [
    "for n in user_list:\n",
    "    if user_list.count(n) >=2:\n",
    "        print(n)\n",
    "    elif n == ' ':\n",
    "        pass  #или как выкинуть пробелы из цикла? ну и сами значения тоже дублируются в выводе"
   ]
  },
  {
   "cell_type": "markdown",
   "metadata": {},
   "source": [
    "* читерский вариант, но надо пробелы убрать; еще видела вариант через импорт Counter "
   ]
  },
  {
   "cell_type": "code",
   "execution_count": 11,
   "metadata": {},
   "outputs": [
    {
     "name": "stdout",
     "output_type": "stream",
     "text": [
      "['5', ' ']\n"
     ]
    }
   ],
   "source": [
    "double = [item for item in set(user_list) if user_list.count(item) > 1]\n",
    "print(double)"
   ]
  }
 ],
 "metadata": {
  "kernelspec": {
   "display_name": "Python 3",
   "language": "python",
   "name": "python3"
  },
  "language_info": {
   "codemirror_mode": {
    "name": "ipython",
    "version": 3
   },
   "file_extension": ".py",
   "mimetype": "text/x-python",
   "name": "python",
   "nbconvert_exporter": "python",
   "pygments_lexer": "ipython3",
   "version": "3.8.3"
  }
 },
 "nbformat": 4,
 "nbformat_minor": 4
}
