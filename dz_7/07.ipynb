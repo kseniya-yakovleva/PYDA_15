{
 "cells": [
  {
   "cell_type": "markdown",
   "metadata": {},
   "source": [
    "* 1. Печатные газеты использовали свой формат дат для каждого выпуска. Для каждой газеты из списка напишите формат указанной даты для перевода в объект datetime"
   ]
  },
  {
   "cell_type": "code",
   "execution_count": 1,
   "metadata": {},
   "outputs": [],
   "source": [
    "The_Moscow_Times = 'Wednesday, October 2, 2002'\n",
    "The_Guardian = 'Friday, 11.10.13'\n",
    "Daily_News = 'Thursday, 18 August 1977'"
   ]
  },
  {
   "cell_type": "code",
   "execution_count": 2,
   "metadata": {},
   "outputs": [],
   "source": [
    "from datetime import datetime"
   ]
  },
  {
   "cell_type": "code",
   "execution_count": 6,
   "metadata": {},
   "outputs": [
    {
     "data": {
      "text/plain": [
       "datetime.datetime(1977, 8, 18, 0, 0)"
      ]
     },
     "execution_count": 6,
     "metadata": {},
     "output_type": "execute_result"
    }
   ],
   "source": [
    "The_Moscow_Times_dt = datetime.strptime(The_Moscow_Times, '%A, %B %d, %Y')\n",
    "The_Guardian_dt = datetime.strptime(The_Guardian, '%A, %m.%d.%y')\n",
    "Daily_News_dt = datetime.strptime(Daily_News, '%A, %d %B %Y')\n",
    "Daily_News_dt"
   ]
  },
  {
   "cell_type": "markdown",
   "metadata": {},
   "source": [
    "* 2. Напишите функцию, которая проверяет эти даты на корректность. Т. е. для каждой даты возвращает True (дата корректна) или False (некорректная дата)."
   ]
  },
  {
   "cell_type": "code",
   "execution_count": 7,
   "metadata": {},
   "outputs": [],
   "source": [
    "stream = ['2018-04-02', '2018-02-29', '2018-19-02']"
   ]
  },
  {
   "cell_type": "code",
   "execution_count": 8,
   "metadata": {},
   "outputs": [
    {
     "name": "stdout",
     "output_type": "stream",
     "text": [
      "2018-04-02 00:00:00 Correct date\n",
      "2018-02-29 Invalid date\n",
      "2018-19-02 Invalid date\n"
     ]
    }
   ],
   "source": [
    "def check_date(stream):\n",
    "    for date in stream:\n",
    "        try:\n",
    "            correct_date = datetime.strptime(date, '%Y-%m-%d')\n",
    "            print(correct_date, 'Correct date')\n",
    "        except ValueError:\n",
    "            print( date, 'Invalid date')\n",
    "check_date(stream)"
   ]
  },
  {
   "cell_type": "markdown",
   "metadata": {},
   "source": [
    "* 3. Напишите функцию date_range, которая возвращает список дат за период от start_date до end_date. Даты должны вводиться в формате YYYY-MM-DD. В случае неверного формата или при start_date > end_date должен возвращаться пустой список."
   ]
  },
  {
   "cell_type": "code",
   "execution_count": 9,
   "metadata": {},
   "outputs": [],
   "source": [
    "from datetime import timedelta"
   ]
  },
  {
   "cell_type": "code",
   "execution_count": 38,
   "metadata": {},
   "outputs": [
    {
     "name": "stdout",
     "output_type": "stream",
     "text": [
      "Введите начальную дату в формате YYYY-MM-DD 2020-01-01\n",
      "Введите конечную дату в фомате YYYY-MM-DD 2020-01-10\n",
      "2020-01-01\n",
      "2020-01-02\n",
      "2020-01-03\n",
      "2020-01-04\n",
      "2020-01-05\n",
      "2020-01-06\n",
      "2020-01-07\n",
      "2020-01-08\n",
      "2020-01-09\n",
      "2020-01-10\n"
     ]
    }
   ],
   "source": [
    "def date_range():\n",
    "    start_date = input('Введите начальную дату в формате YYYY-MM-DD ')\n",
    "    end_date = input('Введите конечную дату в фомате YYYY-MM-DD ')\n",
    "    date_list = []\n",
    "    try:\n",
    "        start_date = datetime.strptime(start_date, '%Y-%m-%d')\n",
    "        end_date = datetime.strptime(end_date, '%Y-%m-%d')\n",
    "    except ValueError:\n",
    "        return f'{date_list} Неверный формат даты'\n",
    "    delta = end_date - start_date\n",
    "    if delta.days <= 0:\n",
    "        return date_list\n",
    "    for i in range(delta.days + 1):\n",
    "        date_list = (start_date + timedelta(i)).strftime('%Y-%m-%d')\n",
    "        print(date_list)\n",
    "date_range()"
   ]
  }
 ],
 "metadata": {
  "kernelspec": {
   "display_name": "Python 3",
   "language": "python",
   "name": "python3"
  },
  "language_info": {
   "codemirror_mode": {
    "name": "ipython",
    "version": 3
   },
   "file_extension": ".py",
   "mimetype": "text/x-python",
   "name": "python",
   "nbconvert_exporter": "python",
   "pygments_lexer": "ipython3",
   "version": "3.8.3"
  }
 },
 "nbformat": 4,
 "nbformat_minor": 4
}
