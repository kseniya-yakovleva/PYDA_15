{
 "cells": [
  {
   "cell_type": "code",
   "execution_count": 1,
   "metadata": {},
   "outputs": [],
   "source": [
    "documents = [\n",
    " {'type': 'passport', 'number': '2207 876234', 'name': 'Василий Гупкин'},\n",
    " {'type': 'invoice', 'number': '11-2', 'name': 'Геннадий Покемонов'},\n",
    " {'type': 'insurance', 'number': '10006', 'name': 'Аристарх Павлов'}\n",
    "]"
   ]
  },
  {
   "cell_type": "code",
   "execution_count": 2,
   "metadata": {},
   "outputs": [],
   "source": [
    "directories = {\n",
    " '1': ['2207 876234', '11-2'],\n",
    " '2': ['10006'],\n",
    " '3': []\n",
    "}"
   ]
  },
  {
   "cell_type": "markdown",
   "metadata": {},
   "source": [
    "* Пункт 1. Пользователь по команде \"p\" может узнать владельца документа по его номеру"
   ]
  },
  {
   "cell_type": "code",
   "execution_count": 3,
   "metadata": {},
   "outputs": [],
   "source": [
    "def name_doc():\n",
    "    \"\"\"\"\"\"\" Возвращает владельца документа по введенному номеру документа\"\"\"\"\"\"\"\n",
    "    doc_number = input('Введите номер документа ')\n",
    "    for p in documents:\n",
    "        if p['number'] == doc_number:\n",
    "            return p['name']\n",
    "            \n",
    "    return 'Документ не найден в базе'"
   ]
  },
  {
   "cell_type": "code",
   "execution_count": 5,
   "metadata": {},
   "outputs": [
    {
     "name": "stdout",
     "output_type": "stream",
     "text": [
      "Введите номер документа 1\n"
     ]
    },
    {
     "data": {
      "text/plain": [
       "'Документ не найден в базе'"
      ]
     },
     "execution_count": 5,
     "metadata": {},
     "output_type": "execute_result"
    }
   ],
   "source": [
    "name_doc()"
   ]
  },
  {
   "cell_type": "markdown",
   "metadata": {},
   "source": [
    "* Пункт 2. Пользователь по команде \"s\" может по номеру документа узнать на какой полке он хранится"
   ]
  },
  {
   "cell_type": "code",
   "execution_count": 6,
   "metadata": {},
   "outputs": [],
   "source": [
    "def shelf_number():\n",
    "    \"\"\"\"\"\"\" Возвращает номер полки, на которой находится документ\"\"\"\"\"\"\"\n",
    "    shelf_number = input('Введите номер документа ')\n",
    "    for key, s in directories.items():\n",
    "        if shelf_number in s:\n",
    "            return f'Документ хранится на полке: {key}'\n",
    "    return 'Документ не найден в базе' "
   ]
  },
  {
   "cell_type": "code",
   "execution_count": 7,
   "metadata": {},
   "outputs": [
    {
     "name": "stdout",
     "output_type": "stream",
     "text": [
      "Введите номер документа 11-2\n"
     ]
    },
    {
     "data": {
      "text/plain": [
       "'Документ хранится на полке: 1'"
      ]
     },
     "execution_count": 7,
     "metadata": {},
     "output_type": "execute_result"
    }
   ],
   "source": [
    "shelf_number()"
   ]
  },
  {
   "cell_type": "markdown",
   "metadata": {},
   "source": [
    "* Пункт 3. Пользователь по команде \"l\" может увидеть полную информацию по всем документам"
   ]
  },
  {
   "cell_type": "code",
   "execution_count": 8,
   "metadata": {},
   "outputs": [],
   "source": [
    "def all_info():\n",
    "    \"\"\"\"\"\"\" Возвращает всю информацию по всем документам\"\"\"\"\"\"\"\n",
    "    for el in documents:\n",
    "        doc_number = el['number']\n",
    "        for shelf, doc in directories.items():\n",
    "            if doc_number in doc:\n",
    "                shelf_number = shelf\n",
    "                print(f\"№ {el['number']}, тип: {el['type']}, владелец: {el['name']}, полка хранения: {shelf_number}\")"
   ]
  },
  {
   "cell_type": "code",
   "execution_count": 9,
   "metadata": {},
   "outputs": [
    {
     "name": "stdout",
     "output_type": "stream",
     "text": [
      "№ 2207 876234, тип: passport, владелец: Василий Гупкин, полка хранения: 1\n",
      "№ 11-2, тип: invoice, владелец: Геннадий Покемонов, полка хранения: 1\n",
      "№ 10006, тип: insurance, владелец: Аристарх Павлов, полка хранения: 2\n"
     ]
    }
   ],
   "source": [
    "all_info()"
   ]
  },
  {
   "cell_type": "markdown",
   "metadata": {},
   "source": [
    "* Пункт 4. Пользователь по команде \"ads\" может добавить новую полку"
   ]
  },
  {
   "cell_type": "code",
   "execution_count": 10,
   "metadata": {},
   "outputs": [],
   "source": [
    "def add_shelf():\n",
    "    \"\"\"\"\"\"\" Добавляет новую полку, если ее нет в словаре\"\"\"\"\"\"\"\n",
    "    shelf_number = input('Введите номер полки ')\n",
    "    if shelf_number in directories.keys():\n",
    "        return f'Такая полка уже существует. Текущий перечень полок:{\",\".join(directories.keys())}'\n",
    "    else:\n",
    "        directories[shelf_number] = []\n",
    "        return f'Полка добавлена. Текущий перечень полок:{\",\".join(directories.keys())}'"
   ]
  },
  {
   "cell_type": "code",
   "execution_count": 12,
   "metadata": {},
   "outputs": [
    {
     "name": "stdout",
     "output_type": "stream",
     "text": [
      "Введите номер полки 5\n"
     ]
    },
    {
     "data": {
      "text/plain": [
       "'Полка добавлена. Текущий перечень полок:1,2,3,5'"
      ]
     },
     "execution_count": 12,
     "metadata": {},
     "output_type": "execute_result"
    }
   ],
   "source": [
    "add_shelf()"
   ]
  },
  {
   "cell_type": "markdown",
   "metadata": {},
   "source": [
    "* Пункт 5. Пользователь по команде \"ds\" может удалить существующую полку из данных (только если она пустая)"
   ]
  },
  {
   "cell_type": "code",
   "execution_count": 13,
   "metadata": {},
   "outputs": [],
   "source": [
    "def del_shelf():\n",
    "    \"\"\"\"\"\"\"Удаляет введенную полку, если она пустая\"\"\"\"\"\"\"\n",
    "    shelf_number = input('Введите номер полки ')\n",
    "    if shelf_number in directories.keys() and directories[shelf_number] == []:\n",
    "        del(directories[shelf_number])\n",
    "        return f'Полка удалена. Текущий перечень полок:{\",\".join(directories.keys())}'\n",
    "    elif shelf_number in directories.keys() and directories[shelf_number] is not None:\n",
    "        return f'На полке есть документы, удалите их перед удалением полки. Текущий перечень полок:{\",\".join(directories.keys())}'\n",
    "    elif shelf_number not in directories.keys():\n",
    "        return f'Такой полки не существует. Текущий перечень полок:{\",\".join(directories.keys())}'"
   ]
  },
  {
   "cell_type": "code",
   "execution_count": 15,
   "metadata": {},
   "outputs": [
    {
     "name": "stdout",
     "output_type": "stream",
     "text": [
      "Введите номер полки 5\n"
     ]
    },
    {
     "data": {
      "text/plain": [
       "'Полка удалена. Текущий перечень полок:1,2,3'"
      ]
     },
     "execution_count": 15,
     "metadata": {},
     "output_type": "execute_result"
    }
   ],
   "source": [
    "del_shelf()"
   ]
  },
  {
   "cell_type": "code",
   "execution_count": 16,
   "metadata": {},
   "outputs": [],
   "source": [
    "def main():\n",
    "    while True:\n",
    "        user_input = input('Введите команду ')\n",
    "        if user_input == 'p':\n",
    "            print(name_doc())\n",
    "        elif user_input == 's':\n",
    "            print(shelf_number())\n",
    "        elif user_input == 'l':\n",
    "            print(all_info())\n",
    "        elif user_input == 'ads':\n",
    "            print('add_shelf()')\n",
    "        elif user_input == 'ds':\n",
    "            print(del_shelf())\n",
    "        elif user_input == 'q':\n",
    "            break"
   ]
  },
  {
   "cell_type": "code",
   "execution_count": 17,
   "metadata": {},
   "outputs": [
    {
     "name": "stdout",
     "output_type": "stream",
     "text": [
      "Введите команду p\n",
      "Введите номер документа 1\n",
      "Документ не найден в базе\n",
      "Введите команду p\n",
      "Введите номер документа 11-2\n",
      "Геннадий Покемонов\n",
      "Введите команду s\n",
      "Введите номер документа 11-2\n",
      "Документ хранится на полке: 1\n",
      "Введите команду l\n",
      "№ 2207 876234, тип: passport, владелец: Василий Гупкин, полка хранения: 1\n",
      "№ 11-2, тип: invoice, владелец: Геннадий Покемонов, полка хранения: 1\n",
      "№ 10006, тип: insurance, владелец: Аристарх Павлов, полка хранения: 2\n",
      "None\n",
      "Введите команду q\n"
     ]
    }
   ],
   "source": [
    "main()"
   ]
  }
 ],
 "metadata": {
  "kernelspec": {
   "display_name": "Python 3",
   "language": "python",
   "name": "python3"
  },
  "language_info": {
   "codemirror_mode": {
    "name": "ipython",
    "version": 3
   },
   "file_extension": ".py",
   "mimetype": "text/x-python",
   "name": "python",
   "nbconvert_exporter": "python",
   "pygments_lexer": "ipython3",
   "version": "3.8.3"
  }
 },
 "nbformat": 4,
 "nbformat_minor": 4
}
